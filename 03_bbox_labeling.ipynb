{
 "cells": [
  {
   "cell_type": "markdown",
   "id": "9f244081-964b-41ff-9f39-fee73a2d2f6f",
   "metadata": {},
   "source": [
    "# This notebook can be used to label image segments from within notebooks using BBoxWidget.\n",
    "#### Does not work with jupyter lab, for a better experience I would recommend [Roboflow.com](https://roboflow.com/annotate)"
   ]
  },
  {
   "cell_type": "code",
   "execution_count": 5,
   "id": "07c16694",
   "metadata": {
    "tags": []
   },
   "outputs": [],
   "source": [
    "import base64, os, time, json\n",
    "from jupyter_bbox_widget import BBoxWidget"
   ]
  },
  {
   "cell_type": "code",
   "execution_count": 6,
   "id": "f703472b",
   "metadata": {
    "tags": []
   },
   "outputs": [],
   "source": [
    "base_path = os.getcwd()\n",
    "data_path =  os.path.join(base_path, 'raw_data', 'mattress_google')\n",
    "bboxes_file = os.path.join(base_path, 'raw_data', 'google_image_bboxes.json')"
   ]
  },
  {
   "cell_type": "code",
   "execution_count": 7,
   "id": "4318b307",
   "metadata": {
    "tags": []
   },
   "outputs": [],
   "source": [
    "def encode_image(filepath):\n",
    "    with open(filepath, 'rb') as f:\n",
    "        image_bytes = f.read()\n",
    "    encoded = str(base64.b64encode(image_bytes), 'utf-8')\n",
    "    return \"data:image/jpg;base64,\"+encoded"
   ]
  },
  {
   "cell_type": "code",
   "execution_count": 8,
   "id": "078d5bd9",
   "metadata": {
    "tags": []
   },
   "outputs": [],
   "source": [
    "def bbox_label(image_path):\n",
    "    widget = BBoxWidget()\n",
    "    widget.image = encode_image(image_path)\n",
    "    return widget"
   ]
  },
  {
   "cell_type": "code",
   "execution_count": 9,
   "id": "1c325999",
   "metadata": {},
   "outputs": [],
   "source": [
    "bboxes_dir = json.load(open(bboxes_file))\n",
    "image_tuples = sorted([(image, os.path.join(data_path, image)) for image in os.listdir(data_path)], key=lambda o: o[0])"
   ]
  },
  {
   "cell_type": "markdown",
   "id": "abed79a1-ac3f-4a73-80c3-277dc45c262a",
   "metadata": {},
   "source": [
    "## Repeat these 4 cells to label"
   ]
  },
  {
   "cell_type": "code",
   "execution_count": 10,
   "id": "8c9dc3b8",
   "metadata": {},
   "outputs": [
    {
     "name": "stdout",
     "output_type": "stream",
     "text": [
      "\n",
      "next image:  (51, 'google_image (145).jpg', '/home/ppt/nbs/ba_repo/Segment-Anything-Model-for-recycling-object-detection/raw_data/mattress_google/google_image (145).jpg')\n"
     ]
    }
   ],
   "source": [
    "# load next image\n",
    "current_name, current_image = image_tuples[bboxes_dir['img_nr']]\n",
    "print('\\nnext image: ', (bboxes_dir['img_nr'], current_name, current_image))"
   ]
  },
  {
   "cell_type": "code",
   "execution_count": 11,
   "id": "caf136d4",
   "metadata": {},
   "outputs": [
    {
     "data": {
      "application/vnd.jupyter.widget-view+json": {
       "model_id": "1ee7769b3a7f4245b12d89f78cfe92ac",
       "version_major": 2,
       "version_minor": 0
      },
      "text/plain": [
       "BBoxWidget(colors=['#1f77b4', '#ff7f0e', '#2ca02c', '#d62728', '#9467bd', '#8c564b', '#e377c2', '#7f7f7f', '#b…"
      ]
     },
     "metadata": {},
     "output_type": "display_data"
    }
   ],
   "source": [
    "# create labeling widget for current image\n",
    "# bboxwidget only seems to work well in jupyter notebook, not in jupyter lab\n",
    "widget = bbox_label(current_image)\n",
    "widget"
   ]
  },
  {
   "cell_type": "code",
   "execution_count": 164,
   "id": "21b3cc03",
   "metadata": {},
   "outputs": [
    {
     "name": "stdout",
     "output_type": "stream",
     "text": [
      "added 1 for google_image (144).jpg\n",
      "[{'x': 4, 'y': 16, 'width': 560, 'height': 1018, 'label': ''}]\n"
     ]
    }
   ],
   "source": [
    "# save bboxes and increment img_nr\n",
    "bboxes_dir[\"bboxes\"][current_name] = widget.bboxes\n",
    "print(f'added {len(bboxes_dir[\"bboxes\"][current_name])} for {current_name}')\n",
    "print(bboxes_dir[\"bboxes\"][current_name])\n",
    "\n",
    "bboxes_dir['img_nr'] += 1"
   ]
  },
  {
   "cell_type": "code",
   "execution_count": 165,
   "id": "0ef7ce10",
   "metadata": {},
   "outputs": [],
   "source": [
    "# save to file\n",
    "json.dump(bboxes_dir, open(bboxes_file, 'w'))"
   ]
  }
 ],
 "metadata": {
  "kernelspec": {
   "display_name": "Python 3 (ipykernel)",
   "language": "python",
   "name": "python3"
  },
  "language_info": {
   "codemirror_mode": {
    "name": "ipython",
    "version": 3
   },
   "file_extension": ".py",
   "mimetype": "text/x-python",
   "name": "python",
   "nbconvert_exporter": "python",
   "pygments_lexer": "ipython3",
   "version": "3.10.12"
  }
 },
 "nbformat": 4,
 "nbformat_minor": 5
}
