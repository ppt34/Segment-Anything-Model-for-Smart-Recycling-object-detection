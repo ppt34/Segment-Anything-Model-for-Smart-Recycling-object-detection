{
 "cells": [
  {
   "cell_type": "markdown",
   "id": "1a55de65-5820-4e34-b736-dca384ed9c96",
   "metadata": {},
   "source": [
    "## Imports"
   ]
  },
  {
   "cell_type": "code",
   "execution_count": 27,
   "id": "e1b93b2d-ebd7-4615-a39f-44e457b137fd",
   "metadata": {
    "tags": []
   },
   "outputs": [],
   "source": [
    "#export\n",
    "import pandas as pd\n",
    "import torch\n",
    "from torch import tensor\n",
    "from sklearn.metrics import f1_score, precision_score, recall_score\n",
    "from IPython.display import Markdown, clear_output\n",
    "import ipywidgets as widgets"
   ]
  },
  {
   "cell_type": "markdown",
   "id": "c86910d1-e6ce-4e18-9135-b989b77c04c4",
   "metadata": {},
   "source": [
    "## Get"
   ]
  },
  {
   "cell_type": "code",
   "execution_count": 10,
   "id": "e16aac17-0388-4b2e-a18c-b9c32a956998",
   "metadata": {},
   "outputs": [],
   "source": [
    "#export\n",
    "def get_metrics(god):\n",
    "    metrics = {'train': {}, 'val': {}}\n",
    "    multi_epoch_metrics = {}\n",
    "    for metric_config in god.config['training']['metrics']:\n",
    "        for phase in ('train', 'val'):\n",
    "            if metric_config['phase'] in (phase, 'both'):\n",
    "                metric_name, metric_dict = get_metric(god, metric_config, phase)\n",
    "                metrics[phase][metric_name] = metric_dict\n",
    "                if metric_dict['get_episode_average']:\n",
    "                    multi_epoch_metrics[metric_name] = metric_dict\n",
    "    return metrics, multi_epoch_metrics"
   ]
  },
  {
   "cell_type": "code",
   "execution_count": 11,
   "id": "4b2f7dc7",
   "metadata": {},
   "outputs": [],
   "source": [
    "#export\n",
    "def get_episode_metrics(god):\n",
    "    episode_metrics = god.metrics_results['episodes'][god.state['episode_nr']]\n",
    "    grouped_metrics_dict = {}\n",
    "    for phase in god.metrics.keys():\n",
    "        for metric_name in god.metrics[phase]:\n",
    "            grouped_metric = {}\n",
    "            for epoch_nr, epoch_dict in episode_metrics['epochs'].items():\n",
    "                if phase in epoch_dict:\n",
    "                    grouped_metric[epoch_nr] = epoch_dict[phase][metric_name]\n",
    "                    \n",
    "            grouped_metrics_dict[metric_name] = grouped_metric\n",
    "     \n",
    "    return grouped_metrics_dict"
   ]
  },
  {
   "cell_type": "code",
   "execution_count": 12,
   "id": "ff2db330",
   "metadata": {},
   "outputs": [],
   "source": [
    "#export\n",
    "# TODO adjust so it doesn't need every metric to be calculated every epoch\n",
    "def get_episode_average(god):\n",
    "    multi_episode_results = {}\n",
    "    for metric_name, metric_dict in god.multi_epoch_metrics.items():\n",
    "        episode_metric_results = []\n",
    "        for episode_result_dict in  god.metrics_results['episodes'].values():\n",
    "            epoch_metric_results = [epoch_result_dict[metric_dict['phase']][metric_name] for epoch_result_dict in episode_result_dict['epochs'].values()]\n",
    "            episode_metric_results.append(epoch_metric_results)\n",
    "\n",
    "        metric_results_tensor = tensor(episode_metric_results)\n",
    "        epoch_means = metric_results_tensor.mean(dim=0)\n",
    "\n",
    "        best_epoch_mean_idx = epoch_means.argmax()\n",
    "        best_epoch_mean_result = epoch_means[best_epoch_mean_idx]\n",
    "        best_epoch_mean_values = metric_results_tensor[:,best_epoch_mean_idx]\n",
    "        best_epoch_mean_std = best_epoch_mean_values.std()\n",
    "\n",
    "        multi_episode_results[metric_name] = {\n",
    "            'best_epoch_mean': best_epoch_mean_result.item(),\n",
    "            'best_epoch_mean_nr': best_epoch_mean_idx.item() + 1,\n",
    "            'best_epoch_mean_std': best_epoch_mean_std.item(),\n",
    "            'best_epoch_mean_values': best_epoch_mean_values.tolist()\n",
    "        }\n",
    "        \n",
    "    return multi_episode_results"
   ]
  },
  {
   "cell_type": "markdown",
   "id": "a12f4d1f-7842-4b61-b29c-e7b74f7de01c",
   "metadata": {},
   "source": [
    "## Get Util"
   ]
  },
  {
   "cell_type": "code",
   "execution_count": 13,
   "id": "015c229e-0e86-482c-bea0-2835c1e25139",
   "metadata": {},
   "outputs": [],
   "source": [
    "#export\n",
    "def get_metric(god, metric_config, phase):    \n",
    "    metric_name = f\"{phase}_{metric_config['name']}\"\n",
    "    metric_object = get_metric_object(god, metric_config)\n",
    "    get_episode_average = metric_config.get('get_episode_average', {}).get('phase', None) in {phase, 'both'}\n",
    "    \n",
    "    return metric_name, {'phase': phase, 'object': metric_object, 'get_episode_average': get_episode_average}\n",
    "\n",
    "\n",
    "def get_metric_object(god, metric_config):\n",
    "    if metric_config['name'] == 'loss':\n",
    "        return LossMetric(god, metric_config['settings'])\n",
    "    \n",
    "    elif metric_config['name'] == 'accuracy':\n",
    "        return AccuracyMetric(god, metric_config['settings'])\n",
    "    \n",
    "    elif metric_config['name'] == 'f1_score':\n",
    "        return F1AccRecMetric(god, metric_config['settings'], f1_score)\n",
    "    \n",
    "    elif metric_config['name'] == 'precision':\n",
    "        return F1AccRecMetric(god, metric_config['settings'], precision_score)\n",
    "    \n",
    "    elif metric_config['name'] == 'recall':\n",
    "        return F1AccRecMetric(god, metric_config['settings'], recall_score)  \n",
    "    \n",
    "    else:\n",
    "        raise Exception(f\"Metric with name '{metric_config['name']}' not supported.'\")"
   ]
  },
  {
   "cell_type": "markdown",
   "id": "0c46db9b-ae3f-426e-bba9-7463efd5426d",
   "metadata": {
    "tags": []
   },
   "source": [
    "## Output Metrics"
   ]
  },
  {
   "cell_type": "code",
   "execution_count": 14,
   "id": "5730cb56-ba01-406a-bfcc-6241d21511e4",
   "metadata": {
    "tags": []
   },
   "outputs": [],
   "source": [
    "#export\n",
    "def show_table_phase_metrics(god):\n",
    "    formatted_results = []\n",
    "    for epoch_nr, epoch_result in god.metrics_results['episodes'][god.state['episode_nr']]['epochs'].items():\n",
    "        for phase, phase_result in epoch_result.items(): \n",
    "            res = {}\n",
    "            res['epoch_nr'] = epoch_nr\n",
    "            res['phase'] = phase\n",
    "            for metric_name, metric_result in phase_result.items():\n",
    "                # todo add table precision constant\n",
    "                rounded_metric_result = round(metric_result, 5) if type(metric_result) != list else [round(r, 5) for r in metric_result]\n",
    "                res[metric_name.split('_', 1)[1]] = rounded_metric_result\n",
    "            formatted_results.append(res)\n",
    "\n",
    "    df = pd.DataFrame(formatted_results)\n",
    "    df_val = df.loc[df['phase'] == 'val']\n",
    "    df_train = df.loc[df['phase'] == 'train']\n",
    "\n",
    "    with god.state['table_output']:\n",
    "        god.state['table_output'].clear_output(wait=True)\n",
    "        display(Markdown(df_train.to_markdown(index=False)))\n",
    "        print()\n",
    "        display(Markdown(df_val.to_markdown(index=False)))\n",
    "        print()\n",
    "    "
   ]
  },
  {
   "cell_type": "code",
   "execution_count": 15,
   "id": "af6770b4-5bbe-4b12-9be5-3df6e2933b28",
   "metadata": {},
   "outputs": [],
   "source": [
    "#export\n",
    "def print_phase_metrics(god):\n",
    "    print_precision = get_print_precision(god)\n",
    "\n",
    "    print(f\"=== Epoch: {god.state['epoch_nr']}, Phase: {god.state['phase']} ===\")\n",
    "    phase_metrics = god.metrics_results['episodes'][god.state['episode_nr']]['epochs'][god.state['epoch_nr']][god.state['phase']]\n",
    "    for name,result_dict in phase_metrics.items():\n",
    "        print(f\"{name}: {round(result_dict, print_precision)}\")\n",
    "    print()"
   ]
  },
  {
   "cell_type": "code",
   "execution_count": 16,
   "id": "3a1bab00-ddc9-480e-89f9-c105d08253bb",
   "metadata": {},
   "outputs": [],
   "source": [
    "#export\n",
    "def print_multi_episodes_metrics(god):\n",
    "    print_precision = get_print_precision(god)\n",
    "    \n",
    "    print(f\"Multi Episode Results at Episode {god.state['episode_nr']}:\")\n",
    "    for metric_name, multi_episode_result in god.metrics_results['multi_episode_results'].items():\n",
    "        print()\n",
    "        print(f'  {metric_name}:')\n",
    "        for stat_name,stat_value in multi_episode_result.items():\n",
    "            stat_value = round(stat_value, print_precision) if type(stat_value) != list else [round(x, print_precision) for x in stat_value]\n",
    "            print(f\"    {stat_name}: {stat_value}\")"
   ]
  },
  {
   "cell_type": "code",
   "execution_count": 17,
   "id": "352de03d-494d-48d7-895b-a730e96d9c50",
   "metadata": {
    "tags": []
   },
   "outputs": [],
   "source": [
    "#export\n",
    "def get_print_precision(god):\n",
    "    return god.config['constants']['print_precision'] if 'print_precision' in god.config['constants'] else 6"
   ]
  },
  {
   "cell_type": "code",
   "execution_count": 18,
   "id": "29fb93f0-cf0b-43c4-a1dd-1f6c491069fc",
   "metadata": {},
   "outputs": [],
   "source": [
    "#WIP\n",
    "def print_best_mean(val_acc_list):\n",
    "    best_epoch_acc_mean = tensor(val_acc_list).mean(dim=0).max().item()\n",
    "    best_epoch_nr = tensor(val_acc_list).mean(dim=0).argmax().item()\n",
    "    best_epoch_std = tensor(val_acc_list)[:, best_epoch_nr].std().item()\n",
    "    print(f'Best mean accuracy of {round(best_epoch_acc_mean, 4)} at epoch {best_epoch_nr} with n={len(val_acc_list)} (std: {round(best_epoch_std, 6)})')   "
   ]
  },
  {
   "cell_type": "code",
   "execution_count": 19,
   "id": "157e61a9-d0d3-4530-8301-1676423a6de7",
   "metadata": {
    "tags": []
   },
   "outputs": [],
   "source": [
    "#WIP\n",
    "def WIP_get_ensemble_accs(config, model_ensemble):\n",
    "    ensemble_pred, y = ensemble_prediction(config, model_ensemble, mode=False)\n",
    "    mean_acc = (ensemble_pred == y).float().mean().item()\n",
    "\n",
    "    ensemble_pred, y = ensemble_prediction(config, model_ensemble, mode=True)\n",
    "    mode_acc = (ensemble_pred == y).float().mean().item()\n",
    "\n",
    "    return mean_acc, mode_acc"
   ]
  },
  {
   "cell_type": "markdown",
   "id": "e518e9ef",
   "metadata": {},
   "source": [
    "## Metric Updates"
   ]
  },
  {
   "cell_type": "code",
   "execution_count": 28,
   "id": "7e832d6d",
   "metadata": {},
   "outputs": [],
   "source": [
    "#export\n",
    "class MetricUpdates:\n",
    "\n",
    "    def update_before_episode_metrics(god):\n",
    "        if god.config['training']['output'].get('show_metrics', {}).get('print', {}).get('episode', False):\n",
    "            print(f\"\\n ===== Episode Nr {god.state['episode_nr']} =====\")\n",
    "            \n",
    "        if not 'episodes' in god.metrics_results:\n",
    "            god.metrics_results['episodes'] = {}\n",
    "        if not 'multi_episode_results' in god.metrics_results and god.multi_epoch_metrics:\n",
    "            god.metrics_results['multi_episode_results'] = {}\n",
    "            for metric_name in god.multi_epoch_metrics:\n",
    "                god.metrics_results['multi_episode_results'][metric_name] = {'epoch_means': []}\n",
    "        \n",
    "        god.metrics_results['episodes'][god.state['episode_nr']] = {'epochs': {}}\n",
    "\n",
    "    def update_before_epoch_metrics(god):\n",
    "        # TODO: TEMPORARY POSITION UNTIL PROGRESS BAR HAS OWN OUTPUT\n",
    "        if god.state['epoch_nr'] == 1:\n",
    "            if 'table_output' in god.state:\n",
    "                god.state['table_output'].clear_output(wait=True)\n",
    "            god.state['table_output'] = widgets.Output()\n",
    "            display(god.state['table_output'])\n",
    "        \n",
    "        god.metrics_results['episodes'][god.state['episode_nr']]['epochs'][god.state['epoch_nr']] = {}\n",
    "\n",
    "    def update_before_phase_metrics(god):\n",
    "        god.metrics_results['episodes'][god.state['episode_nr']]['epochs'][god.state['epoch_nr']][god.state['phase']] = {}\n",
    "        for metric_dict in god.metrics[god.state['phase']].values():\n",
    "            metric_dict['object'].before_phase()\n",
    "\n",
    "    def update_before_batch_metrics(god):\n",
    "        for metric_dict in god.metrics[god.state['phase']].values():\n",
    "            metric_dict['object'].before_batch()\n",
    "\n",
    "    def update_after_batch_metrics(god):\n",
    "        for metric_dict in god.metrics[god.state['phase']].values():\n",
    "            metric_dict['object'].after_batch()\n",
    "\n",
    "    def update_after_phase_metrics(god):\n",
    "        phase_results = god.metrics_results['episodes'][god.state['episode_nr']]['epochs'][god.state['epoch_nr']][god.state['phase']]\n",
    "        for metric_name, metric_dict in god.metrics[god.state['phase']].items():\n",
    "            metric_dict['object'].after_phase()\n",
    "            phase_results[metric_name] = metric_dict['object'].epoch_result['value']\n",
    "                \n",
    "        # TODO temp solution, make it a callback\n",
    "        show_metrics = god.config['training']['output'].get('show_metrics', {})\n",
    "\n",
    "        if show_metrics.get('print', {}).get('epoch', False):\n",
    "            print_phase_metrics(god)\n",
    "        \n",
    "        if show_metrics.get('table', False):\n",
    "            show_table_phase_metrics(god)\n",
    "        \n",
    "        if show_metrics.get('plot', False):\n",
    "            raise Exception(\"show_metrics for 'plot' not implemented yet\")\n",
    "                \n",
    "    def update_after_epoch_metrics(god):\n",
    "        pass  \n",
    "\n",
    "    def update_after_episode_metrics(god):\n",
    "        store_episode_metrics(god)\n",
    "        store_multi_episode_metrics(god)\n",
    "        if god.config['training']['output'].get('show_metrics', {}).get('print', {}).get('episode', False):\n",
    "            if len(god.multi_epoch_metrics) > 0:\n",
    "                print_multi_episodes_metrics(god)"
   ]
  },
  {
   "cell_type": "code",
   "execution_count": 21,
   "id": "f5cdedc0",
   "metadata": {},
   "outputs": [],
   "source": [
    "#export\n",
    "def store_episode_metrics(god):\n",
    "    god.metrics_results['episodes'][god.state['episode_nr']]['episode_metrics'] = get_episode_metrics(god)\n",
    "\n",
    "\n",
    "def store_multi_episode_metrics(god):\n",
    "    if god.multi_epoch_metrics:\n",
    "        god.metrics_results['multi_episode_results'] = get_episode_average(god)\n",
    "    # TODO add more multi episode metrics"
   ]
  },
  {
   "cell_type": "markdown",
   "id": "6fa267ac",
   "metadata": {},
   "source": [
    "## Metric"
   ]
  },
  {
   "cell_type": "code",
   "execution_count": 22,
   "id": "fa76a62b",
   "metadata": {},
   "outputs": [],
   "source": [
    "#export\n",
    "class Metric:\n",
    "    def __init__(self, god, settings):\n",
    "        self.god = god\n",
    "        self.settings = settings\n",
    "    \n",
    "    def before_epoch(self):\n",
    "        pass\n",
    "    \n",
    "    def after_epoch(self):\n",
    "        pass\n",
    "    \n",
    "    def before_phase(self):\n",
    "        pass\n",
    "    \n",
    "    def after_phase(self):\n",
    "        pass\n",
    "    \n",
    "    def before_batch(self):\n",
    "        pass\n",
    "    \n",
    "    def after_batch(self):\n",
    "        pass"
   ]
  },
  {
   "cell_type": "code",
   "execution_count": 23,
   "id": "fcd74f4e",
   "metadata": {},
   "outputs": [],
   "source": [
    "#export\n",
    "class LossMetric(Metric):\n",
    "    \n",
    "    def before_phase(self):\n",
    "        self.losses = []\n",
    "        self.ns = []\n",
    "        self.epoch_result = None\n",
    "        \n",
    "    def after_batch(self):\n",
    "        pred, yb = self.god.state['pred'], self.god.state['yb']\n",
    "        loss = self.god.criterion(pred, yb)\n",
    "        self.losses.append(loss.item())\n",
    "        self.ns.append(yb.size(0))\n",
    "\n",
    "    def after_phase(self):\n",
    "        self.epoch_result = {\n",
    "            'value': ((tensor(self.losses) * tensor(self.ns)).sum()  / tensor(self.ns).sum()).item(),\n",
    "            # 'values': self.losses,\n",
    "            # 'ns': self.ns,\n",
    "            # 'n': tensor(self.ns).sum().item()\n",
    "        }"
   ]
  },
  {
   "cell_type": "code",
   "execution_count": 24,
   "id": "e2a6542a",
   "metadata": {},
   "outputs": [],
   "source": [
    "#export\n",
    "class AccuracyMetric(Metric):\n",
    "\n",
    "    def before_phase(self):\n",
    "        self.corrects = []\n",
    "        self.ns = []\n",
    "        self.values = []\n",
    "        self.epoch_result = None\n",
    "    \n",
    "    def after_batch(self):\n",
    "        pred_class, yb = self.god.state['pred_class'], self.god.state['yb']\n",
    "        self.corrects.append((pred_class == yb).float().sum().item())\n",
    "        self.ns.append(yb.size(0))\n",
    "        self.values.append((pred_class == yb).float().mean().item())\n",
    "        \n",
    "    def after_phase(self):\n",
    "        self.epoch_result = {\n",
    "            'value':  sum(self.corrects) / sum(self.ns),\n",
    "            # 'values': self.values,\n",
    "            # 'corrects': self.corrects,\n",
    "            # 'ns': self.ns\n",
    "        }"
   ]
  },
  {
   "cell_type": "code",
   "execution_count": 25,
   "id": "3c5ac221",
   "metadata": {},
   "outputs": [],
   "source": [
    "#export\n",
    "class F1AccRecMetric(Metric):\n",
    "    \n",
    "    def __init__(self, god, settings, func):\n",
    "        self.god = god\n",
    "        self.settings = settings\n",
    "        self.func = func\n",
    "        self.average = self.settings.get('average', 'binary')\n",
    "        self.labels = self.settings.get('labels', None)\n",
    "        \n",
    "    def before_phase(self):\n",
    "        self.epoch_result = None\n",
    "\n",
    "    def after_phase(self):\n",
    "        value = self.func(self.god.state['all_yb'], self.god.state['all_pred_class'], average=self.average, labels=self.labels)\n",
    "        self.epoch_result = {'value':  value}"
   ]
  },
  {
   "cell_type": "markdown",
   "id": "84c272aa-c143-4341-8845-fd64de2ee056",
   "metadata": {},
   "source": [
    "## Test+Export"
   ]
  },
  {
   "cell_type": "code",
   "execution_count": 26,
   "id": "6807335e-986e-4c4c-a864-770154fe8c86",
   "metadata": {
    "tags": []
   },
   "outputs": [
    {
     "name": "stdout",
     "output_type": "stream",
     "text": [
      "Converted 08_Metrics.ipynb to exp/Metrics.py\n"
     ]
    }
   ],
   "source": [
    "!python _notebook2script.py 08_Metrics.ipynb"
   ]
  }
 ],
 "metadata": {
  "kernelspec": {
   "display_name": "Python 3 (ipykernel)",
   "language": "python",
   "name": "python3"
  },
  "language_info": {
   "codemirror_mode": {
    "name": "ipython",
    "version": 3
   },
   "file_extension": ".py",
   "mimetype": "text/x-python",
   "name": "python",
   "nbconvert_exporter": "python",
   "pygments_lexer": "ipython3",
   "version": "3.10.12"
  }
 },
 "nbformat": 4,
 "nbformat_minor": 5
}
