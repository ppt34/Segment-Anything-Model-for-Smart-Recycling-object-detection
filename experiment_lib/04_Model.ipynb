{
 "cells": [
  {
   "cell_type": "markdown",
   "id": "8c50f963-ab4a-4a42-a008-1fb52875f624",
   "metadata": {},
   "source": [
    "## Imports"
   ]
  },
  {
   "cell_type": "code",
   "execution_count": 8,
   "id": "b77a971a-7694-4406-b355-4b07cb02fac5",
   "metadata": {
    "tags": []
   },
   "outputs": [],
   "source": [
    "#export\n",
    "from torchvision import models\n",
    "from torch import nn"
   ]
  },
  {
   "cell_type": "markdown",
   "id": "752615d9-61c1-4a92-bce9-9a548ea3ecb7",
   "metadata": {},
   "source": [
    "## Get"
   ]
  },
  {
   "cell_type": "code",
   "execution_count": 7,
   "id": "a1bd4e93-00a6-430b-aefa-f10e69a6c528",
   "metadata": {
    "tags": []
   },
   "outputs": [],
   "source": [
    "#export\n",
    "def get_model(god):\n",
    "    model_name = god.config['model']['name']\n",
    "    clf_type = god.config['model']['classification_type']\n",
    "    \n",
    "    if model_name == 'resnet18':\n",
    "        model = models.resnet18(weights=models.ResNet18_Weights.IMAGENET1K_V1)\n",
    "        model.fc = get_final_layer(god, clf_type, model, model.fc.in_features)\n",
    "    \n",
    "    elif model_name == 'resnet152':\n",
    "        model = models.resnet152(weights=models.ResNet152_Weights.IMAGENET1K_V2)\n",
    "        model.fc = get_final_layer(god, clf_type, model, model.fc.in_features)\n",
    "        \n",
    "    elif model_name == 'vit_l_16':\n",
    "        model = models.vit_l_16(weights=models.ViT_L_16_Weights.IMAGENET1K_SWAG_E2E_V1)\n",
    "        model.heads = get_final_layer(god, clf_type, model, model.heads[0].in_features)\n",
    "    \n",
    "    elif model_name == 'convnext_large':\n",
    "        model = models.convnext_large(weights=models.ConvNeXt_Large_Weights)\n",
    "        raise Exception('TODO: Allow final layer to be added')\n",
    "        \n",
    "    elif model:\n",
    "        raise Exception(f\"Model with name '{model_name}' not supported yet\")\n",
    "        \n",
    "    model.name = f\"{model_name}_{clf_type}_{god.config['dataset']['path'].split('/')[-1]}\"\n",
    "    return model\n",
    "\n",
    "\n",
    "def get_final_layer(god, clf_type, model, in_features):\n",
    "    if clf_type == 'multiclass':\n",
    "        return nn.Linear(in_features, len(god.config['id2label']))\n",
    "\n",
    "    elif clf_type == 'binary':\n",
    "        return nn.Sequential(nn.Linear(in_features, 1), nn.Sigmoid())\n",
    "\n",
    "    elif clf_type == 'custom':\n",
    "        return nn.Linear(in_features, god.config['model']['n_outputs'])\n",
    "        \n",
    "    elif clf_type == 'multiclass_sigmoid':\n",
    "        return nn.Sequential(\n",
    "            nn.Linear(in_features, len(god.config['id2label'])),\n",
    "            nn.Sigmoid()\n",
    "        )\n",
    "\n",
    "    elif clf_type == 'multiclass_threshold':\n",
    "        return nn.Sequential(\n",
    "            nn.Linear(in_features, len(god.config['id2label']) - 1),\n",
    "            nn.Sigmoid()\n",
    "        )\n",
    "\n",
    "    else: raise Exception(f\"Classification type '{clf_type}' not supported yet\")\n",
    "        \n",
    "    # TODO add support for this hierarchial loss\n",
    "    # elif model_name == 'resnet18' and clf_type == 'fish_hierarchical':\n",
    "    #     model = HierarchicalResNet18(num_classes=len(god.config['id2label']) - 1)    "
   ]
  },
  {
   "cell_type": "markdown",
   "id": "04e4c65a-b118-4581-a77e-b298c8ec2114",
   "metadata": {},
   "source": [
    "# Models"
   ]
  },
  {
   "cell_type": "code",
   "execution_count": 3,
   "id": "a308dc58-aa06-4246-908b-e880be2b9e77",
   "metadata": {
    "tags": []
   },
   "outputs": [],
   "source": [
    "#export\n",
    "class HierarchicalResNet18(nn.Module):\n",
    "    \n",
    "    def __init__(self, num_classes):\n",
    "        super(HierarchicalResNet18, self).__init__()\n",
    "        self.base_model = models.resnet18(weights=models.ResNet18_Weights.IMAGENET1K_V1)  # Use pre-trained weights\n",
    "        self.fish_not_fish_classifier = nn.Linear(self.base_model.fc.in_features, 2)\n",
    "        self.fish_type_classifier = nn.Linear(self.base_model.fc.in_features, num_classes)\n",
    "        self.base_model.fc = nn.Identity()  # Keep everything up to the final layer\n",
    "\n",
    "    def forward(self, x):\n",
    "        x = self.base_model(x)  # Use pre-trained model's forward, which now stops at the penultimate layer\n",
    "\n",
    "        fish_not_fish_output = self.fish_not_fish_classifier(x)\n",
    "        fish_type_output = self.fish_type_classifier(x)\n",
    "\n",
    "        if self.training:\n",
    "            return fish_not_fish_output, fish_type_output\n",
    "        else:\n",
    "            return fish_not_fish_output, fish_type_output"
   ]
  },
  {
   "cell_type": "markdown",
   "id": "9025f5bc-c311-4236-a13b-9f7dec3666fa",
   "metadata": {},
   "source": [
    "## Test+Export"
   ]
  },
  {
   "cell_type": "code",
   "execution_count": 1,
   "id": "42e1cf0d-85e4-43a8-af3a-e0e9629d12bf",
   "metadata": {
    "tags": []
   },
   "outputs": [
    {
     "name": "stdout",
     "output_type": "stream",
     "text": [
      "Converted 03_Model.ipynb to exp/Model.py\n"
     ]
    }
   ],
   "source": [
    "!python _notebook2script.py 03_Model.ipynb"
   ]
  }
 ],
 "metadata": {
  "kernelspec": {
   "display_name": "Python 3 (ipykernel)",
   "language": "python",
   "name": "python3"
  },
  "language_info": {
   "codemirror_mode": {
    "name": "ipython",
    "version": 3
   },
   "file_extension": ".py",
   "mimetype": "text/x-python",
   "name": "python",
   "nbconvert_exporter": "python",
   "pygments_lexer": "ipython3",
   "version": "3.10.12"
  }
 },
 "nbformat": 4,
 "nbformat_minor": 5
}
