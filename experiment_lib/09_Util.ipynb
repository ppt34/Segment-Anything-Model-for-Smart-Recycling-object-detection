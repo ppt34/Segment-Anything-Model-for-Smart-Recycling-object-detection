{
 "cells": [
  {
   "cell_type": "markdown",
   "id": "e85a5537-f62c-4081-9102-0e7947397b17",
   "metadata": {},
   "source": [
    "## imports"
   ]
  },
  {
   "cell_type": "code",
   "execution_count": 5,
   "id": "11ab4f3a-97ce-4222-976a-67fef91a11fc",
   "metadata": {
    "tags": []
   },
   "outputs": [],
   "source": [
    "#export\n",
    "import numpy as np\n",
    "from torch import tensor\n",
    "import torchvision\n",
    "from torchvision import transforms\n",
    "import matplotlib.pyplot as plt"
   ]
  },
  {
   "cell_type": "markdown",
   "id": "5f0af963-241c-4f1f-bbe5-186e05a50dc3",
   "metadata": {},
   "source": [
    "## image show"
   ]
  },
  {
   "cell_type": "code",
   "execution_count": 6,
   "id": "cbd4f835-416d-4573-939d-3e012e14a126",
   "metadata": {
    "tags": []
   },
   "outputs": [],
   "source": [
    "#export\n",
    "def imshow(god, inp, title=None, pred=None, loss=None):\n",
    "    inp = inp.permute(1, 2, 0)\n",
    "    \n",
    "    normalize_transform = next((t for t in god.data_transforms['train'].transforms if type(t) == transforms.Normalize), None)\n",
    "    if normalize_transform:\n",
    "        mean = tensor(normalize_transform.mean)\n",
    "        std = tensor(normalize_transform.std)\n",
    "        inp = std * inp + mean\n",
    "        inp = np.clip(inp, 0, 1)\n",
    "    \n",
    "    plt.figure(figsize=(12,6))\n",
    "    plt.imshow(inp)\n",
    "    if title is not None: plt.title(title)\n",
    "    if pred is not None: print('predictions:', pred)\n",
    "    if loss is not None: print('loss:', loss)\n",
    "    plt.pause(0.001)"
   ]
  },
  {
   "cell_type": "code",
   "execution_count": 1,
   "id": "29941181-03fb-4178-871b-c90ef2252f49",
   "metadata": {
    "tags": []
   },
   "outputs": [],
   "source": [
    "#export\n",
    "def show_dl_images(god, dl, n=8):\n",
    "    inputs, classes = [], []\n",
    "    while len(inputs) < n:\n",
    "        inp, c = next(iter(dl))\n",
    "        inputs.extend(inp)\n",
    "        classes.extend(c)\n",
    "    inputs, classes = inputs[:n], classes[:n]\n",
    "    out = torchvision.utils.make_grid(inputs)\n",
    "    title=[god.config['id2label'][x.item()] for x in classes]\n",
    "    imshow(god, out, title)    "
   ]
  },
  {
   "cell_type": "code",
   "execution_count": 4,
   "id": "33864d34-6036-461e-bbff-bf34f5bf760f",
   "metadata": {
    "tags": []
   },
   "outputs": [],
   "source": [
    "# WIP\n",
    "def show_batch_images(config, xb, yb=None, pred=None, loss=None, max_n=8):\n",
    "    xb, yb, pred, loss = xb[:max_n], yb[:max_n], pred[:max_n] if pred != None else None, loss[:max_n] if loss != None else None\n",
    "    out = torchvision.utils.make_grid(xb)\n",
    "    title = [config['id2label'][int(y)] for y in yb] if yb!=None else None\n",
    "    pred = [config['id2label'][int(p)] for p in pred] if pred!=None else None\n",
    "    imshow(config, out, title, pred, loss)"
   ]
  },
  {
   "cell_type": "code",
   "execution_count": 5,
   "id": "492f5e09-391b-4f89-85ac-461179b72164",
   "metadata": {
    "tags": []
   },
   "outputs": [],
   "source": [
    "# WIP\n",
    "def show_single_image(config, x, y=None, pred=None, loss=None):\n",
    "    show_batch_images(config, [x], [y] if y!=None else None, [pred] if pred != None else None, [loss] if loss != None else None)"
   ]
  },
  {
   "cell_type": "code",
   "execution_count": 6,
   "id": "f67179f4-ce66-4e2a-80da-2483d382b01b",
   "metadata": {
    "tags": []
   },
   "outputs": [],
   "source": [
    "# WIP\n",
    "def show_preds(config, preds, max_n=8):\n",
    "    show_batch_images(config, [p['x'] for p in preds], [p['y'] for p in preds], [p['pred_class'] for p in preds], [round(p['loss'], 4) for p in preds], max_n=max_n)\n",
    "#Image.fromarray((x * 255).numpy().astype('uint8').transpose(1, 2, 0))"
   ]
  },
  {
   "cell_type": "markdown",
   "id": "a37f0de2-deb6-4f81-b0a0-c0d52258fc6f",
   "metadata": {},
   "source": [
    "## Test+Export"
   ]
  },
  {
   "cell_type": "code",
   "execution_count": 1,
   "id": "02fe606d-e98b-460f-9739-8ba877bd8d2c",
   "metadata": {
    "tags": []
   },
   "outputs": [
    {
     "name": "stdout",
     "output_type": "stream",
     "text": [
      "Converted 09_Util.ipynb to exp/Util.py\n"
     ]
    }
   ],
   "source": [
    "!python _notebook2script.py 09_Util.ipynb"
   ]
  }
 ],
 "metadata": {
  "kernelspec": {
   "display_name": "Python 3 (ipykernel)",
   "language": "python",
   "name": "python3"
  },
  "language_info": {
   "codemirror_mode": {
    "name": "ipython",
    "version": 3
   },
   "file_extension": ".py",
   "mimetype": "text/x-python",
   "name": "python",
   "nbconvert_exporter": "python",
   "pygments_lexer": "ipython3",
   "version": "3.10.12"
  }
 },
 "nbformat": 4,
 "nbformat_minor": 5
}
