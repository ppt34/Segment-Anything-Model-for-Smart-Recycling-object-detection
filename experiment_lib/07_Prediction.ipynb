{
 "cells": [
  {
   "cell_type": "markdown",
   "id": "7b25730b-60e3-4c45-95c2-0be9424169f6",
   "metadata": {},
   "source": [
    "## Imports"
   ]
  },
  {
   "cell_type": "code",
   "execution_count": 1,
   "id": "9e2b3f8e-3eec-4d48-9258-e0812893fff9",
   "metadata": {
    "tags": []
   },
   "outputs": [],
   "source": [
    "#export\n",
    "import torch"
   ]
  },
  {
   "cell_type": "markdown",
   "id": "7afacfd7-31e1-43d5-8ac5-88bc6f4ed32c",
   "metadata": {},
   "source": [
    "## Get"
   ]
  },
  {
   "cell_type": "code",
   "execution_count": 1,
   "id": "acd6194a-52dc-45c4-9acc-04cc4d02d6d4",
   "metadata": {
    "tags": []
   },
   "outputs": [],
   "source": [
    "#export\n",
    "def get_pred_class_function(god):\n",
    "    pred_func_config = god.config['model']['predict_class_function']\n",
    "    \n",
    "    if pred_func_config['name'] == 'argmax':\n",
    "        return lambda pred: pred.argmax(dim=pred_func_config['dim'])\n",
    "    \n",
    "    elif pred_func_config['name'] == 'binary_threshold':\n",
    "        return lambda pred: (pred.squeeze(-1) > pred_func_config['pred_1_threshold']).int()\n",
    "    \n",
    "    elif pred_func_config['name'] == 'fish_hierarchical_preds':\n",
    "        return lambda pred: torch.max(pred[0], dim=1)[1] * (torch.max(pred[1], dim=1)[1] + 1)\n",
    "    \n",
    "    elif pred_func_config['name'] == 'argmax_threshold':\n",
    "        return lambda pred: (pred.argmax(dim=1) + 1) * ((pred >= pred_func_config['threshold']).any(dim=1).long())\n",
    "    \n",
    "    raise Exception(f\"predict_class_function with name '{pred_func_config['name']}' not supported.\")"
   ]
  },
  {
   "cell_type": "code",
   "execution_count": 25,
   "id": "72b4847e-ed5e-4235-9d76-1a96a490eb6e",
   "metadata": {},
   "outputs": [],
   "source": [
    "#export\n",
    "def get_pred_dict(god, model, dl, include_x=False, pred_class_function=None, device='cuda'):\n",
    "    if not pred_class_function: pred_class_function = god.pred_class_function\n",
    "    model = model.to(device)\n",
    "    model.eval()\n",
    "    pred_dict = {}\n",
    "    n = 0\n",
    "    all_xb, all_yb, all_pred, all_pred_class, all_loss = [], [], [], [], []\n",
    "    with torch.no_grad():\n",
    "        for xb, yb in dl:\n",
    "            xb, yb = xb.to(device), yb.to(device)\n",
    "\n",
    "            n += yb.size(0)\n",
    "            pred = model(xb)\n",
    "            pred_class = pred_class_function(pred)\n",
    "            loss = torch.tensor([god.criterion(p.unsqueeze(0), y.unsqueeze(0)) for p,y in zip(pred, yb)])\n",
    "\n",
    "            if include_x: all_xb.append(xb.cpu())\n",
    "            all_yb.append(yb.cpu())\n",
    "            all_pred.append(pred.cpu())\n",
    "            all_pred_class.append(pred_class.cpu())\n",
    "            all_loss.append(loss.cpu())\n",
    "            \n",
    "    model = model.to('cpu')\n",
    "    return {\n",
    "        'idx': torch.arange(n).tolist(),\n",
    "        'x': torch.cat(all_xb).tolist() if all_xb else None,\n",
    "        'y': torch.cat(all_yb).tolist(),\n",
    "        'pred': torch.cat(all_pred).tolist(),\n",
    "        'pred_class': torch.cat(all_pred_class).tolist(),\n",
    "        'loss': torch.cat(all_loss).tolist()\n",
    "    }"
   ]
  },
  {
   "cell_type": "markdown",
   "id": "b9d668e6-f02c-4c71-944d-7d18d359c58f",
   "metadata": {},
   "source": [
    "# WORK IN PROGRESS"
   ]
  },
  {
   "cell_type": "markdown",
   "id": "dc69a2c5-be3f-4495-9d52-e8d9e3ee1825",
   "metadata": {},
   "source": [
    "## predictions"
   ]
  },
  {
   "cell_type": "code",
   "execution_count": 3,
   "id": "f9a7e2e7-2385-4ee0-9604-02ff2c573af3",
   "metadata": {},
   "outputs": [],
   "source": [
    "#OUTDATED AND NOT USED\n",
    "def get_preds(config, model, dl, get_x=True):\n",
    "    model = model.to(device)\n",
    "    model.eval()\n",
    "    results = []\n",
    "    for xb, yb in dl:\n",
    "        xb,yb = xb.to(device), yb.to(device)\n",
    "        with torch.no_grad():\n",
    "            pred = model(xb)\n",
    "            pred_class = get_pred_class(config, pred)\n",
    "            loss = get_criterion(config, reduction='none')(pred, yb)\n",
    "            for i in range(len(xb)):\n",
    "                results.append({\n",
    "                    'x': xb[i].cpu() if get_x else i,\n",
    "                    'y': yb[i].tolist(),\n",
    "                    'pred': pred[i].tolist(),\n",
    "                    'pred_class': pred_class[i].tolist(),\n",
    "                    'loss': loss[i].tolist()\n",
    "                })\n",
    "    return results"
   ]
  },
  {
   "cell_type": "code",
   "execution_count": 4,
   "id": "6adf8638-6eca-4a10-a554-d1d988f62b5a",
   "metadata": {},
   "outputs": [],
   "source": [
    "def get_wrong_preds(config, model, dl):\n",
    "    return [result for result in get_preds(config, model, dl) if result['y'] != result['pred']]"
   ]
  },
  {
   "cell_type": "code",
   "execution_count": 5,
   "id": "ca184f8d-5f54-4c4d-8d95-d80c5f9a7f20",
   "metadata": {},
   "outputs": [],
   "source": [
    "def get_highest_loss_preds(config, model, dl, max_n=0):\n",
    "    results = sorted(get_preds(config, model, dl), key=lambda r: r['loss'], reverse=True)\n",
    "    if max_n > 0: results = results[:max_n]\n",
    "    return results"
   ]
  },
  {
   "cell_type": "code",
   "execution_count": 6,
   "id": "13ae8723-3f85-4a89-878f-613618351ccd",
   "metadata": {
    "tags": []
   },
   "outputs": [],
   "source": [
    "# WIP\n",
    "def WIP_ensemble_prediction(config, model_ensemble, mode=True):\n",
    "    dl = DataLoader(datasets['val'], batch_size=config['hp']['batch_size'], shuffle=False, num_workers=12)\n",
    "    all_preds = []\n",
    "    for model in model_ensemble:\n",
    "        model.to(device)\n",
    "        preds_list = get_preds(config, model, dl)\n",
    "        all_preds.append(torch.stack([p['pred_class'] for p in preds_list]).squeeze(-1))\n",
    "        model.to('cpu')\n",
    "    y = torch.cat([yb for _,yb in dl])\n",
    "    \n",
    "    if mode: return (torch.stack(all_preds) > 0.5).int().mode(dim=0).values, y\n",
    "    return (torch.stack(all_preds).mean(dim=0) > 0.5).int(), y"
   ]
  },
  {
   "cell_type": "markdown",
   "id": "c9204b00-ec60-4899-a5f4-404318d9590b",
   "metadata": {},
   "source": [
    "## prediction metrics"
   ]
  },
  {
   "cell_type": "code",
   "execution_count": 7,
   "id": "2748c493-091a-4429-99e8-a04c11047815",
   "metadata": {
    "tags": []
   },
   "outputs": [],
   "source": [
    "def pred_dict_accuracy(pred_dict):\n",
    "    return tensor([p['pred_class'] == p['y'] for p in pred_dict]).float().mean().item()\n",
    "\n",
    "def pred_dict_precision(pred_dict, target_class=1):\n",
    "    return tensor([p['y'] == target_class for p in pred_dict if p['pred_class'] == target_class]).float().mean().item()\n",
    "\n",
    "def pred_dict_recall(pred_dict, target_class=1):\n",
    "    return tensor([p['pred_class'] == target_class for p in pred_dict if p['y'] == target_class]).float().mean().item()"
   ]
  },
  {
   "cell_type": "markdown",
   "id": "ce38c9c0-d5df-407b-95a0-3ff4ef461126",
   "metadata": {},
   "source": [
    "## Test+Export"
   ]
  },
  {
   "cell_type": "code",
   "execution_count": 8,
   "id": "8982e44b-2238-4371-a38c-4487aa5a08b4",
   "metadata": {
    "tags": []
   },
   "outputs": [
    {
     "name": "stdout",
     "output_type": "stream",
     "text": [
      "Converted 06_Prediction.ipynb to exp/Prediction.py\n"
     ]
    }
   ],
   "source": [
    "!python _notebook2script.py 06_Prediction.ipynb"
   ]
  }
 ],
 "metadata": {
  "kernelspec": {
   "display_name": "Python 3 (ipykernel)",
   "language": "python",
   "name": "python3"
  },
  "language_info": {
   "codemirror_mode": {
    "name": "ipython",
    "version": 3
   },
   "file_extension": ".py",
   "mimetype": "text/x-python",
   "name": "python",
   "nbconvert_exporter": "python",
   "pygments_lexer": "ipython3",
   "version": "3.10.12"
  }
 },
 "nbformat": 4,
 "nbformat_minor": 5
}
