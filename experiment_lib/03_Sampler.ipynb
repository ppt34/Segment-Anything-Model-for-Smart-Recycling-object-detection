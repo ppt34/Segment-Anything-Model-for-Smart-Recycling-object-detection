{
 "cells": [
  {
   "cell_type": "markdown",
   "id": "1b27d85b-c2b7-456f-96b6-ad4de626048e",
   "metadata": {},
   "source": [
    "## Imports"
   ]
  },
  {
   "cell_type": "code",
   "execution_count": 3,
   "id": "f7dbe177-a9bf-48d2-9d3d-e3c27e4eb24f",
   "metadata": {
    "tags": []
   },
   "outputs": [],
   "source": [
    "#export\n",
    "from torch.utils.data import Sampler, RandomSampler, SequentialSampler\n",
    "import torch\n",
    "from torch import tensor\n",
    "import numpy as np"
   ]
  },
  {
   "cell_type": "markdown",
   "id": "7c0fcb9d-dd68-45f8-8f8a-555754f21325",
   "metadata": {},
   "source": [
    "## Get"
   ]
  },
  {
   "cell_type": "code",
   "execution_count": 1,
   "id": "842e13ec-fe30-4e6a-9b2a-2f0d449bf891",
   "metadata": {
    "tags": []
   },
   "outputs": [],
   "source": [
    "#export\n",
    "def get_samplers(god):\n",
    "    samplers = {}\n",
    "    for phase in ('train', 'val'):\n",
    "        sampling_dict = god.config['sampling'][phase]\n",
    "        ds = god.datasets[phase]\n",
    "\n",
    "        if sampling_dict['name'] == 'sequential':\n",
    "            samplers[phase] = SequentialSampler(ds)\n",
    "\n",
    "        elif sampling_dict['name']  == 'random':\n",
    "            samplers[phase] = RandomSampler(ds)\n",
    "\n",
    "        elif sampling_dict['name'] == 'undersample':\n",
    "            targets = tensor([ds.get_y(i) for i in range(len(ds))])\n",
    "            #targets = torch.cat([yb for _, yb in DataLoader(ds, batch_size=64, num_workers=12)])\n",
    "            samplers[phase] = UnderSampler(targets)\n",
    "\n",
    "        elif sampling_dict['name'] == 'oversample':\n",
    "            targets = tensor([ds.get_y(i) for i in range(len(ds))])\n",
    "            #targets = torch.cat([yb for _, yb in DataLoader(ds, batch_size=64, num_workers=12)])\n",
    "            samplers[phase] = OverSampler(targets)\n",
    "\n",
    "        elif sampling_dict['name'] == 'random_subset':\n",
    "            targets = tensor([ds.get_y(i) for i in range(len(ds))])\n",
    "            samplers[phase] = RandomSubsetSampler(targets, fraction=sampling_dict['fraction'])\n",
    "\n",
    "        elif sampling_dict['name'] == 'n_sample':\n",
    "            targets = tensor([ds.get_y(i) for i in range(len(ds))])\n",
    "            use_class_counts = 'class_counts' in sampling_dict\n",
    "            use_samples_per_class = 'n_samples_per_class' in sampling_dict\n",
    "\n",
    "            if use_class_counts and use_samples_per_class:\n",
    "                raise ValueError(\"Only one of 'class_counts' or 'samples_per_class' should be provided in sampler settings.\")\n",
    "            elif use_class_counts:\n",
    "                samplers[phase] = NSampler(targets, class_counts=sampling_dict['class_counts'])\n",
    "            elif use_samples_per_class:\n",
    "                samplers[phase] = NSampler(targets, sampling_dict['n_samples_per_class'])\n",
    "            else:\n",
    "                raise ValueError(\"One of 'class_counts' or 'samples_per_class' sampler_settings must be provided.\")\n",
    "\n",
    "        else:\n",
    "            raise Exception(f\"Sampling method '{sampling_dict['name']}' is not supported\")\n",
    "            \n",
    "    return samplers"
   ]
  },
  {
   "cell_type": "markdown",
   "id": "434c40de-a1e9-4143-8d86-5bfb0766c574",
   "metadata": {},
   "source": [
    "## Sampler"
   ]
  },
  {
   "cell_type": "code",
   "execution_count": 5,
   "id": "78c31429-d53f-4cd8-983c-20e1fc210010",
   "metadata": {},
   "outputs": [],
   "source": [
    "#export\n",
    "class UnderSampler(Sampler):\n",
    "    def __init__(self, targets):\n",
    "        if type(targets) == list: targets = torch.tensor(targets)\n",
    "        self.class_idx_dict = {c: (targets == c).nonzero(as_tuple=True)[0] for c in targets.unique()}\n",
    "        self.min_class_len = min(len(idx) for idx in self.class_idx_dict.values())\n",
    "\n",
    "    def __iter__(self):\n",
    "        shuffled_class_idx = [idx[torch.randperm(len(idx))] for idx in self.class_idx_dict.values()]\n",
    "        same_size_class_idx = [idx[:self.min_class_len] for idx in shuffled_class_idx]\n",
    "        balanced_class_idx = torch.cat(same_size_class_idx)[torch.randperm(self.__len__())]\n",
    "        return iter(balanced_class_idx.tolist())\n",
    "\n",
    "    def __len__(self):\n",
    "        return len(self.class_idx_dict) * self.min_class_len\n",
    "   "
   ]
  },
  {
   "cell_type": "code",
   "execution_count": 6,
   "id": "8d6ba9c4-2f0d-4285-981e-76f5fcd67ff5",
   "metadata": {},
   "outputs": [],
   "source": [
    "#export\n",
    "class OverSampler(Sampler):\n",
    "    def __init__(self, targets):\n",
    "        if type(targets) == list: \n",
    "            targets = torch.tensor(targets)\n",
    "\n",
    "        self.class_idx_dict = {c: (targets == c).nonzero(as_tuple=True)[0] for c in targets.unique()}\n",
    "        self.max_class_len = max(len(idx) for idx in self.class_idx_dict.values())\n",
    "\n",
    "    def __iter__(self):\n",
    "        oversampled_class_idx = [torch.cat([idx[torch.randint(high=len(idx), size=(self.max_class_len,))] \n",
    "                                            for _ in range((self.max_class_len + len(idx) - 1) // len(idx))])[:self.max_class_len] \n",
    "                                for idx in self.class_idx_dict.values()]\n",
    "        oversampled_class_idx = torch.cat(oversampled_class_idx)[torch.randperm(self.__len__())]\n",
    "        return iter(oversampled_class_idx.tolist())\n",
    "\n",
    "    def __len__(self):\n",
    "        return len(self.class_idx_dict) * self.max_class_len"
   ]
  },
  {
   "cell_type": "code",
   "execution_count": 7,
   "id": "0915785d-feca-4db5-81db-49c4ab3cf755",
   "metadata": {},
   "outputs": [],
   "source": [
    "#export\n",
    "class NSampler(Sampler):\n",
    "    def __init__(self, targets, n_samples_per_class=None, class_counts=None):\n",
    "        # Ensure exactly one of n_samples_per_class or class_counts is provided\n",
    "        if (n_samples_per_class is None) == (class_counts is None):\n",
    "            raise ValueError(\"Exactly one of n_samples_per_class or class_counts must be provided.\")\n",
    "        \n",
    "        if type(targets) == list: targets = torch.tensor(targets)\n",
    "        self.n_samples_per_class = n_samples_per_class\n",
    "        self.class_counts = class_counts\n",
    "        self.class_idx_dict = {c: (targets == c).nonzero(as_tuple=True)[0] for c in targets.unique()}\n",
    "\n",
    "    def __iter__(self):\n",
    "        shuffled_and_resampled_class_idx = []\n",
    "        for c, idx in self.class_idx_dict.items():\n",
    "            if self.n_samples_per_class is not None:\n",
    "                samples_per_class = self.n_samples_per_class\n",
    "            else:  # self.class_counts is not None\n",
    "                samples_per_class = self.class_counts[c]\n",
    "\n",
    "            if len(idx) < samples_per_class:\n",
    "                repeat_times = samples_per_class // len(idx)\n",
    "                remainder = samples_per_class % len(idx)\n",
    "                idx = torch.cat([idx]*repeat_times)\n",
    "                if remainder:\n",
    "                    idx = torch.cat([idx, idx[torch.randperm(len(idx))[:remainder]]])\n",
    "            else:\n",
    "                idx = idx[torch.randperm(len(idx))][:samples_per_class]\n",
    "            shuffled_and_resampled_class_idx.append(idx)\n",
    "        balanced_class_idx = torch.cat(shuffled_and_resampled_class_idx)[torch.randperm(self.__len__())]\n",
    "        return iter(balanced_class_idx.tolist())\n",
    "\n",
    "    def __len__(self):\n",
    "        if self.n_samples_per_class is not None:\n",
    "            return len(self.class_idx_dict) * self.n_samples_per_class\n",
    "        else:  # self.class_counts is not None\n",
    "            return sum(self.class_counts[c] for c in self.class_idx_dict.keys())"
   ]
  },
  {
   "cell_type": "code",
   "execution_count": 8,
   "id": "2c386031-a6e6-4a65-8301-67ae9af9f6c9",
   "metadata": {},
   "outputs": [],
   "source": [
    "#export\n",
    "class RandomSubsetSampler(Sampler):\n",
    "    def __init__(self, targets, fraction=0.1):\n",
    "        self.targets = targets\n",
    "        self.fraction = fraction\n",
    "\n",
    "    def __iter__(self):\n",
    "        class_indices = {}\n",
    "        for idx, class_label in enumerate(self.targets):\n",
    "            if class_label.item() not in class_indices:\n",
    "                class_indices[class_label.item()] = []\n",
    "            class_indices[class_label.item()].append(idx)\n",
    "\n",
    "        stratified_indices = []\n",
    "        for class_label in class_indices:\n",
    "            indices = class_indices[class_label]\n",
    "            subset_size = int(len(indices) * self.fraction)\n",
    "            subset_indices = np.random.choice(indices, size=subset_size, replace=False)\n",
    "            stratified_indices.extend(subset_indices.tolist())\n",
    "        np.random.shuffle(stratified_indices)\n",
    "        return iter(stratified_indices)\n",
    "\n",
    "    def __len__(self):\n",
    "        return int(len(self.targets) * self.fraction)"
   ]
  },
  {
   "cell_type": "markdown",
   "id": "5cedc304-2cfa-4fe1-afa0-19f2a470aafd",
   "metadata": {},
   "source": [
    "## Test+Export"
   ]
  },
  {
   "cell_type": "code",
   "execution_count": 9,
   "id": "e9577d33-7977-4c6c-a85a-7a0f6bbc6f54",
   "metadata": {
    "tags": []
   },
   "outputs": [
    {
     "name": "stdout",
     "output_type": "stream",
     "text": [
      "Converted 02_Sampler.ipynb to exp/Sampler.py\n"
     ]
    }
   ],
   "source": [
    "!python _notebook2script.py 02_Sampler.ipynb"
   ]
  }
 ],
 "metadata": {
  "kernelspec": {
   "display_name": "Python 3 (ipykernel)",
   "language": "python",
   "name": "python3"
  },
  "language_info": {
   "codemirror_mode": {
    "name": "ipython",
    "version": 3
   },
   "file_extension": ".py",
   "mimetype": "text/x-python",
   "name": "python",
   "nbconvert_exporter": "python",
   "pygments_lexer": "ipython3",
   "version": "3.10.12"
  }
 },
 "nbformat": 4,
 "nbformat_minor": 5
}
